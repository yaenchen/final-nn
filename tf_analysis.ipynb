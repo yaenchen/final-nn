{
 "cells": [
  {
   "cell_type": "markdown",
   "id": "dfddb09b-130a-43e9-a98d-8b677ede8c6a",
   "metadata": {},
   "source": [
    "## BMI 203 Final Project: Rap1 transcription factor analysis"
   ]
  },
  {
   "cell_type": "markdown",
   "id": "6301b554-b8da-4b91-9c71-1d263afb7048",
   "metadata": {},
   "source": [
    "This Jupyter notebook uses the neural network API developed for this assignment to classify Rap1 transcription factors."
   ]
  },
  {
   "cell_type": "code",
   "execution_count": 4,
   "id": "7119aa45-f581-4ba5-bbe4-cdd11acea8f4",
   "metadata": {},
   "outputs": [],
   "source": [
    "from sklearn.datasets import load_digits\n",
    "from sklearn.model_selection import train_test_split\n",
    "import numpy as np\n",
    "from nn import nn, preprocess, io\n",
    "import matplotlib.pyplot as plt"
   ]
  },
  {
   "cell_type": "code",
   "execution_count": 2,
   "id": "209ef8ab-b4df-4961-9683-8db2d13772ac",
   "metadata": {},
   "outputs": [],
   "source": [
    "%load_ext autoreload\n",
    "# reloads the file constantly so you don't need to reset\n",
    "%autoreload 2"
   ]
  },
  {
   "cell_type": "markdown",
   "id": "638fee29-2801-468f-8b37-18484e5dd6f4",
   "metadata": {},
   "source": [
    "#### Step 1: Load the genetic data"
   ]
  },
  {
   "cell_type": "code",
   "execution_count": 3,
   "id": "9419d560-664e-4b6b-9d9c-1ccbd7cfa8dd",
   "metadata": {},
   "outputs": [],
   "source": [
    "positives = io.read_text_file(\"data/rap1-lieb-positives.txt\")\n",
    "negatives = io.read_fasta_file(\"data/yeast-upstream-1k-negative.fa\")"
   ]
  },
  {
   "cell_type": "code",
   "execution_count": 4,
   "id": "4b70f4a2-7d13-4d7d-850d-4783f7a2dc4d",
   "metadata": {},
   "outputs": [
    {
     "data": {
      "text/plain": [
       "17"
      ]
     },
     "execution_count": 4,
     "metadata": {},
     "output_type": "execute_result"
    }
   ],
   "source": [
    "len(positives[3])"
   ]
  },
  {
   "cell_type": "markdown",
   "id": "3482d34b-519d-4e22-9002-17f88ec98abd",
   "metadata": {},
   "source": [
    " The positive sequences are much shorter, and I will trim the negative sequences to match the length of the positive sequences."
   ]
  },
  {
   "cell_type": "code",
   "execution_count": 5,
   "id": "b8b83e4a-8fdc-49b5-859e-f10b35f19f31",
   "metadata": {},
   "outputs": [],
   "source": [
    "trimmed_negatives = []\n",
    "for negative in negatives:\n",
    "    negative = negative[:17]\n",
    "    trimmed_negatives.append(negative)"
   ]
  },
  {
   "cell_type": "markdown",
   "id": "155858e4-4d48-4d81-91c6-5fb8efa4a187",
   "metadata": {},
   "source": [
    "#### Step 2: Split data into training and testing\n",
    "80% of the data will be used for training, while 20% will be used for testing.\n",
    "\n",
    "**sample_seqs** from preprocess.py upsamples the lower class so that both classes have the same number of entries (average entries across the classes)."
   ]
  },
  {
   "cell_type": "code",
   "execution_count": 6,
   "id": "20283dd9-51dc-4542-acdb-b76f71692be6",
   "metadata": {},
   "outputs": [
    {
     "name": "stdout",
     "output_type": "stream",
     "text": [
      "Sequence example: ATCACAGAACCCTTGAT\n",
      "Number of sequences after sampling: 3300 \n",
      " Number of labels after sampling: 3300\n",
      "Training examples: 2640 \n",
      " Testing examples: 660\n"
     ]
    }
   ],
   "source": [
    "# concatenate the lists\n",
    "seqs = list(positives) + list(trimmed_negatives)\n",
    "# print one of the sequences (first one) to see that it looks ok\n",
    "print(\"Sequence example:\", seqs[400])\n",
    "\n",
    "# make the labels, True for positive and False for negative to match seqs\n",
    "labels = [True] * len(positives) + [False] * len(trimmed_negatives)\n",
    "\n",
    "# upsample lower class and check lengths to make sure each seq has a label\n",
    "sampled_seqs, sampled_labels = preprocess.sample_seqs(seqs, labels)\n",
    "print(\"Number of sequences after sampling:\", len(sampled_seqs), '\\n', 'Number of labels after sampling:', len(sampled_labels))\n",
    "\n",
    "# split into training and testing\n",
    "X_train, X_test, y_train, y_test = train_test_split(sampled_seqs, sampled_labels, test_size = 0.2, random_state = 1)\n",
    "print(\"Training examples:\", len(X_train), '\\n', \"Testing examples:\", len(X_test))"
   ]
  },
  {
   "cell_type": "code",
   "execution_count": 7,
   "id": "87d725a9-254a-470d-a11d-4ac2366e9be5",
   "metadata": {},
   "outputs": [],
   "source": [
    "# convert labels to arrays and make them 2D\n",
    "y_test = np.array(y_test)\n",
    "y_test = y_test.reshape(-1, 1)\n",
    "y_train = np.array(y_train)\n",
    "y_train = y_train.reshape(-1, 1)"
   ]
  },
  {
   "cell_type": "code",
   "execution_count": 8,
   "id": "c0105a45-92fd-4fcb-8105-91c12e8d67b1",
   "metadata": {},
   "outputs": [
    {
     "name": "stdout",
     "output_type": "stream",
     "text": [
      "(2640, 68)\n",
      "(660, 68)\n"
     ]
    }
   ],
   "source": [
    "# one hot encode sequences\n",
    "X_train_encoded = preprocess.one_hot_encode_seqs(X_train)\n",
    "X_test_encoded = preprocess.one_hot_encode_seqs(X_test)\n",
    "print(X_train_encoded.shape) # should be the number of samples, 2640 and the number of nucleotides in each seq * 4 (68)\n",
    "print(X_test_encoded.shape) # should be (660, 68)"
   ]
  },
  {
   "cell_type": "markdown",
   "id": "25447010-6eed-468e-a1fd-fef7f64eab80",
   "metadata": {},
   "source": [
    "#### Step 2: Determine optimal parameters\n",
    "An instance of my autoencoder was generated with BCE as the loss function since the output is  binary (positive or negative). Other parameters for use in my autoencoder were determined through a brief grid search with various learning rates, batch sizes, and epochs.\n",
    "\n",
    "After grid search, the optimal parameters were determined to be a **learning rate of 0.01, batch size of 50, and 200 epochs** based on minimal loss values.\n",
    "\n",
    "My neural network consists of 2 layers, which takes an input and encodes it into a lower-dimensional latent space to decode and reconstruct it. The autoencoder is 64x16x64."
   ]
  },
  {
   "cell_type": "code",
   "execution_count": 9,
   "id": "1a24f345-419a-4a9c-9c69-ec728350027f",
   "metadata": {},
   "outputs": [],
   "source": [
    "arch = [{'input_dim': 68, 'output_dim': 16, 'activation': 'sigmoid'},\n",
    "       {'input_dim': 16, 'output_dim': 68, 'activation': 'sigmoid'}]"
   ]
  },
  {
   "cell_type": "code",
   "execution_count": 10,
   "id": "aeb5dfa5-f4de-4231-82bb-56e3134c4ea5",
   "metadata": {},
   "outputs": [],
   "source": [
    "# do a small grid search\n",
    "# initialize parameters to test\n",
    "lr_params = [0.01, 0.001]\n",
    "batch_size_params = [50, 100]\n",
    "epoch_params = [100, 200]\n",
    "# initialize lists to store losses and the optimal parameters\n",
    "losses = []\n",
    "optimal_params = []\n",
    "\n",
    "# do grid search\n",
    "for lr in lr_params:\n",
    "    for batch_size in batch_size_params:\n",
    "        for epoch in epoch_params:\n",
    "            test = nn.NeuralNetwork(arch, lr=lr, batch_size=batch_size, epochs=epoch, seed=42, loss_function = \"bce\")\n",
    "            train_loss, test_loss = test.fit(X_train_encoded, y_train, X_test_encoded, y_test)\n",
    "            losses.append(min((test_loss)))\n",
    "            optimal_params.append([lr, batch_size, epoch])"
   ]
  },
  {
   "cell_type": "code",
   "execution_count": 11,
   "id": "f4d9a935-60a5-42a5-960f-fc9339280cfa",
   "metadata": {},
   "outputs": [
    {
     "data": {
      "text/plain": [
       "[0.01, 50, 200]"
      ]
     },
     "execution_count": 11,
     "metadata": {},
     "output_type": "execute_result"
    }
   ],
   "source": [
    "#print the optimal parameters (learning rate, batch size, epochs)\n",
    "optimal_params[losses.index(min(losses))]"
   ]
  },
  {
   "cell_type": "markdown",
   "id": "b3370d3d-95e0-4c9c-a88d-ec2f9d8e6b05",
   "metadata": {},
   "source": [
    "#### Step 3: Train my neural network using optimal parameters"
   ]
  },
  {
   "cell_type": "code",
   "execution_count": 15,
   "id": "1db7001b-4d12-46d4-b698-d5b2643cac72",
   "metadata": {},
   "outputs": [],
   "source": [
    "# initialize neural network architecture using the optimal parameters\n",
    "arch = [{'input_dim': 68, 'output_dim': 16, 'activation': 'sigmoid'},\n",
    "       {'input_dim': 16, 'output_dim': 68, 'activation': 'sigmoid'}]\n",
    "# initialize autoencoder\n",
    "network = nn.NeuralNetwork(arch, lr = 0.01, seed = 10, batch_size = 50, epochs = 200, loss_function = \"mse\")"
   ]
  },
  {
   "cell_type": "code",
   "execution_count": 17,
   "id": "0df8abe8-56aa-4b5f-8137-f41065e0ff7f",
   "metadata": {},
   "outputs": [],
   "source": [
    "# train autoencoder on the training data\n",
    "train_loss, test_loss = network.fit(X_train_encoded, y_train, X_test_encoded, y_test)"
   ]
  },
  {
   "cell_type": "markdown",
   "id": "70b23ccb-5ba4-442b-a04e-9b292db3ee34",
   "metadata": {},
   "source": [
    "#### Step 4: Plot losses per epoch"
   ]
  },
  {
   "cell_type": "code",
   "execution_count": 5,
   "id": "a1902767-fd00-41e7-b500-8bce1354235c",
   "metadata": {},
   "outputs": [
    {
     "data": {
      "image/png": "[encoded data removed]",
      "text/plain": [
       "<Figure size 640x480 with 1 Axes>"
      ]
     },
     "metadata": {},
     "output_type": "display_data"
    }
   ],
   "source": [
    "plt.figure()\n",
    "plt.plot(train_loss)\n",
    "plt.title(\"Training Losses Per Epoch\")\n",
    "plt.xlabel('Epoch')\n",
    "plt.ylabel('Loss')\n",
    "plt.show()"
   ]
  },
  {
   "cell_type": "code",
   "execution_count": 6,
   "id": "00b311fb-dd10-42aa-8cdd-0987f61cfbee",
   "metadata": {},
   "outputs": [
    {
     "data": {
      "image/png": "[encoded data removed]",
      "text/plain": [
       "<Figure size 640x480 with 1 Axes>"
      ]
     },
     "metadata": {},
     "output_type": "display_data"
    }
   ],
   "source": [
    "plt.figure()\n",
    "plt.plot(test_loss)\n",
    "plt.title(\"Testing Losses Per Epoch\")\n",
    "plt.xlabel('Epoch')\n",
    "plt.ylabel('Loss')\n",
    "plt.show()"
   ]
  },
  {
   "cell_type": "markdown",
   "id": "fdd682b6-d8f3-45ac-b01e-d36c13bc7340",
   "metadata": {},
   "source": [
    "#### Step 5: Quantify reconstruction error (accuracy)"
   ]
  },
  {
   "cell_type": "code",
   "execution_count": 28,
   "id": "78cd6a9e-8e3c-4a76-bddb-22b476a380f4",
   "metadata": {},
   "outputs": [
    {
     "data": {
      "text/plain": [
       "array([[0.9519363343879181, 0.9522302845391154, 0.9511496565993803, ...,\n",
       "        0.9517278887934038, 0.9518765220182471, 0.9516533317934016],\n",
       "       [0.9533720746027643, 0.9541725950972545, 0.9542422279610319, ...,\n",
       "        0.9542465165359971, 0.9546242866571448, 0.9533136112253741],\n",
       "       [0.022001852220698812, 0.02099188470955804, 0.021837393891756058,\n",
       "        ..., 0.02090705991570671, 0.020766287588967335,\n",
       "        0.020187352003864477],\n",
       "       ...,\n",
       "       [0.017998532668763344, 0.016285488411224826, 0.018311308554788554,\n",
       "        ..., 0.016290744367813928, 0.016487270070410478,\n",
       "        0.015510686502050976],\n",
       "       [0.9636559161639671, 0.9632785831592301, 0.9633272581870421, ...,\n",
       "        0.9638498221536743, 0.963641525340787, 0.9633572270596704],\n",
       "       [0.9663511997531927, 0.9666838806458279, 0.9664567993186447, ...,\n",
       "        0.966664703160093, 0.9669328351614966, 0.967034508293116]],\n",
       "      dtype=object)"
      ]
     },
     "execution_count": 28,
     "metadata": {},
     "output_type": "execute_result"
    }
   ],
   "source": [
    "# make predictions using test data\n",
    "preds = network.predict(X_test_encoded)\n",
    "preds"
   ]
  },
  {
   "cell_type": "code",
   "execution_count": 34,
   "id": "72767630-35b2-4c16-8361-4d06c672f4ee",
   "metadata": {},
   "outputs": [
    {
     "name": "stdout",
     "output_type": "stream",
     "text": [
      "Final accuracy on testing set: 67.89696969696969\n"
     ]
    }
   ],
   "source": [
    "# Compute accuracy\n",
    "preds = (preds >= 0.5) * 1\n",
    "print(\"Final accuracy on testing set:\", np.sum(preds == y_test) / len(y_test))"
   ]
  }
 ],
 "metadata": {
  "kernelspec": {
   "display_name": "Python 3 (ipykernel)",
   "language": "python",
   "name": "python3"
  },
  "language_info": {
   "codemirror_mode": {
    "name": "ipython",
    "version": 3
   },
   "file_extension": ".py",
   "mimetype": "text/x-python",
   "name": "python",
   "nbconvert_exporter": "python",
   "pygments_lexer": "ipython3",
   "version": "3.9.7"
  }
 },
 "nbformat": 4,
 "nbformat_minor": 5
}
