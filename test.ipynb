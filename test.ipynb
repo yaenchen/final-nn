{
 "cells": [
  {
   "cell_type": "code",
   "execution_count": 1,
   "id": "6d0f7757-08b2-4572-b227-0cd1b33c6866",
   "metadata": {},
   "outputs": [],
   "source": [
    "%load_ext autoreload\n",
    "# reloads the file constantly so you don't need to reset\n",
    "%autoreload 2"
   ]
  },
  {
   "cell_type": "code",
   "execution_count": 1,
   "id": "925b2cbd-a794-4514-8abd-02352dc88478",
   "metadata": {},
   "outputs": [
    {
     "name": "stderr",
     "output_type": "stream",
     "text": [
      "/Users/yaenchen/opt/anaconda3/lib/python3.9/site-packages/scipy/__init__.py:146: UserWarning: A NumPy version >=1.16.5 and <1.23.0 is required for this version of SciPy (detected version 1.23.5\n",
      "  warnings.warn(f\"A NumPy version >={np_minversion} and <{np_maxversion}\"\n"
     ]
    }
   ],
   "source": [
    "from nn.nn import NeuralNetwork\n",
    "from nn.preprocess import one_hot_encode_seqs, sample_seqs\n",
    "#import io\n",
    "from nn.io import read_fasta_file, read_text_file\n",
    "import numpy as np\n",
    "from sklearn.datasets import load_digits\n",
    "from sklearn.model_selection import train_test_split"
   ]
  },
  {
   "cell_type": "code",
   "execution_count": 7,
   "id": "524fd405-b3af-42e7-8539-c2ee279f5272",
   "metadata": {},
   "outputs": [
    {
     "data": {
      "text/plain": [
       "array([0., 0., 0.])"
      ]
     },
     "execution_count": 7,
     "metadata": {},
     "output_type": "execute_result"
    }
   ],
   "source": [
    "np.zeros(3)"
   ]
  },
  {
   "cell_type": "code",
   "execution_count": 19,
   "id": "72d30fb7-a135-49ba-8ea2-d37ff9a05166",
   "metadata": {},
   "outputs": [],
   "source": [
    "pos = open('data/rap1-lieb-positives.txt').read().split(\"\\n\")\n",
    "neg = read_fasta_file('data/yeast-upstream-1k-negative.fa')"
   ]
  },
  {
   "cell_type": "code",
   "execution_count": null,
   "id": "1c0bdeef-01ac-4c0d-94ed-d5b70f12a3f0",
   "metadata": {},
   "outputs": [],
   "source": [
    "# output should match A_prev\n",
    "# number of neurons in this layer is the number of biases in the bias matrix\n",
    "num_neurons = len(b_curr)\n",
    "# number of outputs is the number of neurons\n",
    "A_curr = np.zeros(num_neurons)\n",
    "for i in range(0, num_neurons):\n",
    "    output = A_prev * W_curr + b_curr"
   ]
  },
  {
   "cell_type": "code",
   "execution_count": 134,
   "id": "00c1d554-6c29-48a6-a4ba-6948458fac11",
   "metadata": {},
   "outputs": [
    {
     "name": "stdout",
     "output_type": "stream",
     "text": [
      "0 {'input_dim': 68, 'output_dim': 34, 'activation': 'sigmoid'}\n",
      "1 {'input_dim': 34, 'output_dim': 17, 'activation': 'sigmoid'}\n",
      "2 {'input_dim': 17, 'output_dim': 1, 'activation': 'sigmoid'}\n"
     ]
    },
    {
     "data": {
      "text/plain": [
       "[None, None, None]"
      ]
     },
     "execution_count": 134,
     "metadata": {},
     "output_type": "execute_result"
    }
   ],
   "source": [
    "# Create network\n",
    "layers = [{\"input_dim\": 68, \"output_dim\": 34, \"activation\": \"sigmoid\"},\n",
    "          {\"input_dim\": 34, \"output_dim\": 17, \"activation\": \"sigmoid\"},\n",
    "          {\"input_dim\": 17, \"output_dim\": 1, \"activation\": \"sigmoid\"},]\n",
    "network = NeuralNetwork(layers, lr = 0.01, seed = 42, batch_size = 100, epochs = 20, loss_function = \"bce\")\n",
    "\n",
    "[print(index, layer) for index, layer in enumerate(network.arch)]"
   ]
  },
  {
   "cell_type": "code",
   "execution_count": 52,
   "id": "0dbe83d9-f483-48e0-ae2d-2de4225d4bb8",
   "metadata": {},
   "outputs": [
    {
     "name": "stdout",
     "output_type": "stream",
     "text": [
      "Shape of the digits data: (1797, 64)\n"
     ]
    }
   ],
   "source": [
    "digits = load_digits()\n",
    "print(\"Shape of the digits data:\", np.shape(digits.data))\n",
    "X_train, X_val, y_train, y_val = train_test_split(digits[\"data\"], digits[\"target\"], test_size = 0.2, random_state = 0)"
   ]
  },
  {
   "cell_type": "code",
   "execution_count": 153,
   "id": "9324d2cf-e9fe-493a-b088-23e7fe57fb83",
   "metadata": {},
   "outputs": [],
   "source": [
    "def forward(network, X: ArrayLike):\n",
    "    \"\"\"\n",
    "    This method is responsible for one forward pass of the entire neural network.\n",
    "\n",
    "    Args:\n",
    "        X: ArrayLike\n",
    "            Input matrix with shape [batch_size, features].\n",
    "\n",
    "    Returns:\n",
    "        output: ArrayLike\n",
    "            Output of forward pass.\n",
    "        cache: Dict[str, ArrayLike]:\n",
    "            Dictionary storing Z and A matrices from `_single_forward` for use in backprop.\n",
    "    \"\"\"\n",
    "    # initialize cache with the input matrix (will be changed later, just need a matrix in there)\n",
    "    cache = {'Z0':X}\n",
    "    \n",
    "    for (index, layer) in enumerate(network.arch):\n",
    "        print(index, layer)\n",
    "        # for each layer, get the weights, bias, and activation function\n",
    "        # index starts from 0 but dictionary references beginning from 1, so add 1 to index\n",
    "        W_curr = network._param_dict[f\"W{index + 1}\"]\n",
    "        b_curr = network._param_dict[f\"b{index + 1}\"]\n",
    "        activation = layer['activation']\n",
    "        \n",
    "        # forward for that layer\n",
    "        A_curr, Z_curr = self._single_forward(W_curr, b_curr, A_prev, activation)\n",
    "        # store new A and Z to cache dictionary\n",
    "        cache[f\"A{layer_idx}\"] = A_curr\n",
    "        cache[f\"Z{layer_idx}\"] = Z_curr\n",
    "        \n",
    "        # initialize current A as previous A for the next layer iteration\n",
    "        A_prev = A_curr\n",
    "    \n",
    "    # After all the layers\n",
    "    return A_prev, cache\n",
    "    "
   ]
  },
  {
   "cell_type": "code",
   "execution_count": 154,
   "id": "d6161186-f8b9-4de1-8eea-f1ecdf290a6d",
   "metadata": {},
   "outputs": [
    {
     "name": "stdout",
     "output_type": "stream",
     "text": [
      "0 {'input_dim': 68, 'output_dim': 34, 'activation': 'sigmoid'}\n",
      "sigmoid\n",
      "1 {'input_dim': 34, 'output_dim': 17, 'activation': 'sigmoid'}\n",
      "sigmoid\n",
      "2 {'input_dim': 17, 'output_dim': 1, 'activation': 'sigmoid'}\n",
      "sigmoid\n"
     ]
    }
   ],
   "source": [
    "forward(network, X_train)\n",
    "#for i, l in (list(enumerate(net.arch))):\n",
    "#    print(i, l)"
   ]
  },
  {
   "cell_type": "code",
   "execution_count": 38,
   "id": "ca697614-1893-4ef8-b792-81fd8433d108",
   "metadata": {},
   "outputs": [
    {
     "name": "stdout",
     "output_type": "stream",
     "text": [
      "t\n",
      "e\n",
      "s\n",
      "t\n"
     ]
    },
    {
     "data": {
      "text/plain": [
       "[None, None, None, None]"
      ]
     },
     "execution_count": 38,
     "metadata": {},
     "output_type": "execute_result"
    }
   ],
   "source": [
    "        # Initialize cache and set first A_prev\n",
    "        cache = {\"A0\": X}\n",
    "        A_prev = X\n",
    "\n",
    "        # Go through each layer\n",
    "        for idx, layer in enumerate(self.arch):\n",
    "\n",
    "            # \"Actual\" idx is one higher to correspond to _init_params definition\n",
    "            layer_idx = idx + 1\n",
    "\n",
    "            # Get info for this layer\n",
    "            W_curr = self._param_dict[f\"W{layer_idx}\"]\n",
    "            b_curr = self._param_dict[f\"b{layer_idx}\"]\n",
    "            activation = layer[\"activation\"]\n",
    "\n",
    "            # Do the forward pass\n",
    "            A_curr, Z_curr = self._single_forward(W_curr, b_curr, A_prev, activation)\n",
    "\n",
    "            # Store matrices in cache and set up next loop\n",
    "            cache[f\"A{layer_idx}\"] = A_curr\n",
    "            cache[f\"Z{layer_idx}\"] = Z_curr\n",
    "            A_prev = A_curr\n",
    "\n",
    "        # Return final activation and cache\n",
    "        return A_prev, cache"
   ]
  },
  {
   "cell_type": "code",
   "execution_count": 157,
   "id": "cf33f09e-5b94-4233-900e-39912f7e75f0",
   "metadata": {},
   "outputs": [
    {
     "data": {
      "text/plain": [
       "True"
      ]
     },
     "execution_count": 157,
     "metadata": {},
     "output_type": "execute_result"
    }
   ],
   "source": [
    "1 / (1 + np.e ** (-100)) == 1 / (1 + np.exp(-100))"
   ]
  },
  {
   "cell_type": "code",
   "execution_count": 196,
   "id": "eef803be-b41e-486c-bca8-5d0032042404",
   "metadata": {},
   "outputs": [],
   "source": [
    "import numpy as np\n",
    "from typing import List, Tuple\n",
    "from numpy.typing import ArrayLike\n",
    "from collections import Counter\n",
    "from sklearn.utils import shuffle\n",
    "\n",
    "def sample_seqs(seqs: List[str], labels: List[bool]) -> Tuple[List[str], List[bool]]:\n",
    "    \"\"\"\n",
    "    This function should sample the given sequences to account for class imbalance. \n",
    "    Consider this a sampling scheme with replacement.\n",
    "    \n",
    "    Args:\n",
    "        seqs: List[str]\n",
    "            List of all sequences.\n",
    "        labels: List[bool]\n",
    "            List of positive/negative labels\n",
    "\n",
    "    Returns:\n",
    "        sampled_seqs: List[str]\n",
    "            List of sampled sequences which reflect a balanced class size\n",
    "        sampled_labels: List[bool]\n",
    "            List of labels for the sampled sequences\n",
    "    \"\"\"\n",
    "    # get the total number of entries\n",
    "    num_entries = len(seqs)\n",
    "    # the balance class size is the total number of entries divided by the number of classes for equal split\n",
    "    # only 2 classes: positive and negative\n",
    "    balanced_size = int(np.ceil(num_entries / 2))\n",
    "\n",
    "    # get the count of class frequencies\n",
    "    label_counts = Counter(labels).values()\n",
    "    # get the less frequent class name\n",
    "    less_frequent_label = list(Counter(labels).keys())[1]\n",
    "    # get pos class indices\n",
    "    pos_indices = [i for i, x in enumerate(labels) if x == \"True\"]\n",
    "    # get neg class\n",
    "    neg_indices = [i for i, x in enumerate(labels) if x == \"False\"]\n",
    "    # resample using random indices\n",
    "    # get random indices from total positive and negative indices lists\n",
    "    print(pos_indices)\n",
    "    print(neg_indices)\n",
    "    pos_sample_indices = np.random.choice(pos_indices, size=balanced_size, replace=True)\n",
    "    neg_sample_indices = np.random.choice(neg_indices, size=balanced_size, replace=True)\n",
    "    # get sequences from the random indices\n",
    "    sampled_seqs = [seqs[i] for i in pos_sample_indices] + [seqs[i] for i in neg_sample_indices]\n",
    "    # get labels from the random indices\n",
    "    sampled_labels = [labels[i] for i in pos_sample_indices] + [labels[i] for i in neg_sample_indices]\n",
    "    # shuffle the final sequences and labels in the same manner to keep position consistent\n",
    "    sampled_seqs, sampled_labels = shuffle(sampled_seqs, sampled_labels)\n",
    "    \n",
    "    return sampled_seqs, sampled_labels"
   ]
  },
  {
   "cell_type": "code",
   "execution_count": 60,
   "id": "4a1e7c57-ab06-4bb3-8d10-127703a25aac",
   "metadata": {},
   "outputs": [
    {
     "data": {
      "text/plain": [
       "(['A', 'A', 'B', 'B'], [True, True, False, False])"
      ]
     },
     "execution_count": 60,
     "metadata": {},
     "output_type": "execute_result"
    }
   ],
   "source": [
    "sample_seqs(['A', 'A', 'A', 'B'], [True,True,True,False])"
   ]
  },
  {
   "cell_type": "code",
   "execution_count": 220,
   "id": "350d7713-6495-4714-963d-e48b763585c0",
   "metadata": {},
   "outputs": [],
   "source": [
    "from itertools import chain\n",
    "def one_hot_encode_seqs(seq_arr: List[str]) -> ArrayLike:\n",
    "    \"\"\"\n",
    "    This function generates a flattened one-hot encoding of a list of DNA sequences\n",
    "    for use as input into a neural network.\n",
    "\n",
    "    Args:\n",
    "        seq_arr: List[str]\n",
    "            List of sequences to encode.\n",
    "\n",
    "    Returns:\n",
    "        encodings: ArrayLike\n",
    "            Array of encoded sequences, with each encoding 4x as long as the input sequence.\n",
    "            For example, if we encode:\n",
    "                A -> [1, 0, 0, 0]\n",
    "                T -> [0, 1, 0, 0]\n",
    "                C -> [0, 0, 1, 0]\n",
    "                G -> [0, 0, 0, 1]\n",
    "            Then, AGA -> [1, 0, 0, 0, 0, 0, 0, 1, 1, 0, 0, 0].\n",
    "    \"\"\"\n",
    "    encodings = []\n",
    "\n",
    "    # iterate through nucleotides\n",
    "    # append to final encodings list the new one-hot encoded values\n",
    "    for nuc in seq_arr:\n",
    "        if nuc == 'A':\n",
    "            encodings.append([1, 0, 0, 0])\n",
    "        elif nuc == 'T':\n",
    "            encodings.append([0, 1, 0, 0])\n",
    "        elif nuc == 'C':\n",
    "            encodings.append([0, 0, 1, 0])\n",
    "        elif nuc == 'G':\n",
    "            encodings.append([0, 0, 0, 1])\n",
    "\n",
    "    # return final encodings as an array\n",
    "    return list(chain.from_iterable(np.array(encodings)))"
   ]
  },
  {
   "cell_type": "code",
   "execution_count": 221,
   "id": "ec227029-6fc6-4b91-aa70-5212c6189eec",
   "metadata": {},
   "outputs": [
    {
     "data": {
      "text/plain": [
       "[1, 0, 0, 0, 0, 0, 0, 1, 1, 0, 0, 0]"
      ]
     },
     "execution_count": 221,
     "metadata": {},
     "output_type": "execute_result"
    }
   ],
   "source": [
    "one_hot_encode_seqs('AGA')"
   ]
  },
  {
   "cell_type": "code",
   "execution_count": 34,
   "id": "6525c4a1-deb0-4421-ba13-b7f91ee5b264",
   "metadata": {},
   "outputs": [],
   "source": [
    "net = NeuralNetwork([{'input_dim': 5, 'output_dim': 10, 'activation': \"sigmoid\"},\n",
    "                        {'input_dim': 10, 'output_dim': 5, 'activation': \"sigmoid\"}],\n",
    "                        lr=0.1,\n",
    "                        seed=10,\n",
    "                        batch_size=5,\n",
    "                        epochs=5,\n",
    "                        loss_function='bce')"
   ]
  },
  {
   "cell_type": "code",
   "execution_count": 11,
   "id": "d12ef697-f227-4850-8771-b3e6d50eaedc",
   "metadata": {},
   "outputs": [],
   "source": [
    "np.random.seed(10)\n",
    "X = np.random.randn(10, 5) # 3 observations, 4 features"
   ]
  },
  {
   "cell_type": "code",
   "execution_count": 12,
   "id": "59a4e183-f71a-4677-a579-a59133e337b7",
   "metadata": {},
   "outputs": [
    {
     "data": {
      "text/plain": [
       "array([[ 1.3315865 ,  0.71527897, -1.54540029, -0.00838385,  0.62133597],\n",
       "       [-0.72008556,  0.26551159,  0.10854853,  0.00429143, -0.17460021],\n",
       "       [ 0.43302619,  1.20303737, -0.96506567,  1.02827408,  0.22863013],\n",
       "       [ 0.44513761, -1.13660221,  0.13513688,  1.484537  , -1.07980489],\n",
       "       [-1.97772828, -1.7433723 ,  0.26607016,  2.38496733,  1.12369125],\n",
       "       [ 1.67262221,  0.09914922,  1.39799638, -0.27124799,  0.61320418],\n",
       "       [-0.26731719, -0.54930901,  0.1327083 , -0.47614201,  1.30847308],\n",
       "       [ 0.19501328,  0.40020999, -0.33763234,  1.25647226, -0.7319695 ],\n",
       "       [ 0.66023155, -0.35087189, -0.93943336, -0.48933722, -0.80459114],\n",
       "       [-0.21269764, -0.33914025,  0.31216994,  0.56515267, -0.14742026]])"
      ]
     },
     "execution_count": 12,
     "metadata": {},
     "output_type": "execute_result"
    }
   ],
   "source": [
    "X "
   ]
  },
  {
   "cell_type": "code",
   "execution_count": 61,
   "id": "8c93c08c-290b-4721-b788-cc4e7e57ea47",
   "metadata": {},
   "outputs": [],
   "source": [
    "output, cache = net.forward(X)"
   ]
  },
  {
   "cell_type": "code",
   "execution_count": 63,
   "id": "0f5fdb9b-447e-4dbc-85b6-02626aa50f01",
   "metadata": {},
   "outputs": [
    {
     "data": {
      "text/plain": [
       "{'A0': array([[-0.34888192, -0.43902624,  0.14110417,  0.27304932, -1.61857075],\n",
       "        [-0.57311336, -1.32044755,  1.23620533,  2.46532508,  1.38323223],\n",
       "        [ 0.34623312,  1.02251611,  0.16681027,  1.65671662,  0.66788961],\n",
       "        [-0.22994664, -1.12955119, -0.6399626 ,  0.31383052, -1.22583598],\n",
       "        [-0.22179314,  1.33992631,  0.02930971,  1.98538575,  1.4471656 ],\n",
       "        [-0.28762941, -1.35931057, -0.04804133, -0.48078734,  0.37775309],\n",
       "        [ 1.61440797, -1.12310404, -0.38872795,  0.33234995,  1.13497317],\n",
       "        [ 0.51071441,  0.41429764,  1.34454942,  0.49351532, -0.23700418],\n",
       "        [ 0.05728515, -0.70707145,  0.54666484,  0.94250041, -2.97959677],\n",
       "        [ 1.21814885, -0.05652072,  0.46088845,  0.66237401, -2.29510333]]),\n",
       " 'A1': array([[0.44941055, 0.51806323, 0.46394821, 0.57990949, 0.52915659,\n",
       "         0.46772466, 0.51249705, 0.55364032, 0.5211759 , 0.50744671],\n",
       "        [0.43032647, 0.50636081, 0.4820492 , 0.6055673 , 0.7692477 ,\n",
       "         0.52552173, 0.60044923, 0.54847189, 0.41318853, 0.5444526 ],\n",
       "        [0.53269886, 0.50549652, 0.56304884, 0.53645759, 0.57739638,\n",
       "         0.52691026, 0.54606135, 0.57274568, 0.45643006, 0.50268274],\n",
       "        [0.47713266, 0.50751637, 0.46659241, 0.58886436, 0.56136322,\n",
       "         0.44955951, 0.53091839, 0.54805681, 0.53907434, 0.50570233],\n",
       "        [0.53679374, 0.51408618, 0.58224984, 0.51187655, 0.62980787,\n",
       "         0.50888177, 0.56635873, 0.57042524, 0.42819278, 0.50371057],\n",
       "        [0.47332013, 0.50155163, 0.43385536, 0.52490393, 0.57556408,\n",
       "         0.49706507, 0.59712739, 0.48632787, 0.50378071, 0.4954399 ],\n",
       "        [0.56521731, 0.46479458, 0.49461145, 0.54781893, 0.53921746,\n",
       "         0.57089169, 0.59520677, 0.51251944, 0.51592061, 0.48936385],\n",
       "        [0.46807423, 0.50551939, 0.48339095, 0.54078083, 0.50945733,\n",
       "         0.5670774 , 0.54150277, 0.5379883 , 0.46917996, 0.5030566 ],\n",
       "        [0.42166486, 0.51608772, 0.4599522 , 0.65084949, 0.52514767,\n",
       "         0.47279625, 0.46239246, 0.59450681, 0.53982153, 0.52517852],\n",
       "        [0.48530165, 0.49626289, 0.49078103, 0.61865684, 0.44164158,\n",
       "         0.5322742 , 0.47110268, 0.5863504 , 0.54491215, 0.50636099]]),\n",
       " 'Z1': array([[-0.20305259,  0.07228437, -0.14445783,  0.32240185,  0.11675881,\n",
       "         -0.12928113,  0.04999861,  0.21539016,  0.08475432,  0.02978905],\n",
       "        [-0.28051928,  0.02544461, -0.07183408,  0.42871716,  1.2040682 ,\n",
       "          0.10217572,  0.40733724,  0.19449838, -0.35079963,  0.17828111],\n",
       "        [ 0.13098238,  0.02198696,  0.25354496,  0.14608962,  0.31209434,\n",
       "          0.10774515,  0.18476926,  0.29306233, -0.17472289,  0.01073107],\n",
       "        [-0.09153321,  0.03006775, -0.13382976,  0.35927267,  0.24669644,\n",
       "         -0.20245062,  0.12383154,  0.19282246,  0.15661673,  0.02281031],\n",
       "        [ 0.14744147,  0.05635965,  0.33201607,  0.04751513,  0.53139268,\n",
       "          0.03553083,  0.26701005,  0.28358634, -0.28922841,  0.01484256],\n",
       "        [-0.10682095,  0.00620654, -0.2661384 ,  0.09969824,  0.30458953,\n",
       "         -0.01173984,  0.39351008, -0.05470217,  0.01512314, -0.01824092],\n",
       "        [ 0.26236394, -0.14105509, -0.02155504,  0.1918621 ,  0.15719272,\n",
       "          0.28549013,  0.38553245,  0.05008823,  0.06370397, -0.04255102],\n",
       "        [-0.12787704,  0.02207847, -0.06646066,  0.16348648,  0.03783382,\n",
       "          0.26993686,  0.16639394,  0.15224659, -0.12343666,  0.01222654],\n",
       "        [-0.3159427 ,  0.06437309, -0.16053508,  0.62277532,  0.10067561,\n",
       "         -0.10892255, -0.15071482,  0.38262811,  0.15962419,  0.10079934],\n",
       "        [-0.05881035, -0.01494873, -0.03688006,  0.4838511 , -0.23450245,\n",
       "          0.12927654, -0.11571824,  0.34889834,  0.18013409,  0.02544533]]),\n",
       " 'A2': array([[0.48143897, 0.50816474, 0.53673459, 0.48668311, 0.46553634],\n",
       "        [0.4838546 , 0.51255378, 0.52826506, 0.4860597 , 0.46110437],\n",
       "        [0.4845847 , 0.51192266, 0.53278144, 0.49032614, 0.46194268],\n",
       "        [0.48202594, 0.50639076, 0.53848958, 0.48758986, 0.46632257],\n",
       "        [0.48642051, 0.51055976, 0.53322558, 0.49056067, 0.46009727],\n",
       "        [0.48592537, 0.50560177, 0.53700116, 0.48888211, 0.46386499],\n",
       "        [0.48519459, 0.51070064, 0.53378183, 0.49235269, 0.46504538],\n",
       "        [0.48324058, 0.51317822, 0.53094084, 0.48851457, 0.46299257],\n",
       "        [0.47723994, 0.51165853, 0.53448979, 0.48483289, 0.46764646],\n",
       "        [0.47845901, 0.51377405, 0.53337973, 0.48781133, 0.46761879]]),\n",
       " 'Z2': array([[-0.07427824,  0.03266186,  0.14720358, -0.05328014, -0.13807356],\n",
       "        [-0.06460407,  0.05022567,  0.1131809 , -0.05577564, -0.15589751],\n",
       "        [-0.06168074,  0.0476997 ,  0.13131414, -0.03870028, -0.15252429],\n",
       "        [-0.07192722,  0.02556444,  0.15426353, -0.04965076, -0.134914  ],\n",
       "        [-0.05433134,  0.04224531,  0.13309845, -0.0377618 , -0.15995107],\n",
       "        [-0.0563134 ,  0.022408  ,  0.14827569, -0.04447888, -0.14479246],\n",
       "        [-0.05923898,  0.0428091 ,  0.13533348, -0.03059161, -0.14004693],\n",
       "        [-0.06706278,  0.05272507,  0.12392171, -0.04594982, -0.14830093],\n",
       "        [-0.09110322,  0.04664258,  0.13817859, -0.06068705, -0.12959523],\n",
       "        [-0.08621732,  0.05511014,  0.13371781, -0.04876433, -0.12970639]])}"
      ]
     },
     "execution_count": 63,
     "metadata": {},
     "output_type": "execute_result"
    }
   ],
   "source": [
    "cache"
   ]
  },
  {
   "cell_type": "code",
   "execution_count": 20,
   "id": "7c922ac6-2853-4b78-819a-a5ea744c750a",
   "metadata": {},
   "outputs": [],
   "source": [
    "net = NeuralNetwork([{'input_dim': 1, 'output_dim': 2, 'activation': \"sigmoid\"},\n",
    "                        {'input_dim': 2, 'output_dim': 1, 'activation': \"sigmoid\"}],\n",
    "                        lr=0.1,\n",
    "                        seed=10,\n",
    "                        batch_size=1,\n",
    "                        epochs=2,\n",
    "                        loss_function='bce')\n"
   ]
  },
  {
   "cell_type": "code",
   "execution_count": 35,
   "id": "79f7ef0d-ec14-4dcc-b38d-d797063ec874",
   "metadata": {},
   "outputs": [],
   "source": [
    "A, Z = net._single_forward(W_curr = np.array([1, 2, 3]),\n",
    "                           b_curr=np.array([1, 2, 3]),\n",
    "                          A_prev=np.array([1, 0, 1]),\n",
    "                          activation=net.arch[0]['activation'])"
   ]
  },
  {
   "cell_type": "code",
   "execution_count": 40,
   "id": "895d410d-121f-4f22-aaf5-82a7cab8c3e2",
   "metadata": {},
   "outputs": [],
   "source": [
    "np.random.seed(10)\n",
    "# instantiate simple neural network\n",
    "net = NeuralNetwork([{'input_dim': 5, 'output_dim': 10, 'activation': \"sigmoid\"},\n",
    "                        {'input_dim': 10, 'output_dim': 5, 'activation': \"sigmoid\"}],\n",
    "                        lr=0.1,\n",
    "                        seed=10,\n",
    "                        batch_size=5,\n",
    "                        epochs=5,\n",
    "                        loss_function='bce')\n",
    "# make some data\n",
    "X = np.random.randn(10, 5)\n",
    "\n",
    " \n",
    "A, Z = net._single_forward(W_curr=np.array([1, 2, 3]),\n",
    "                           b_curr=np.array([1, 2, 3]),\n",
    "                           A_prev=np.array([1, 0, 1]),\n",
    "                           activation=net.arch[0]['activation'])\n",
    "# assert statements on example\n",
    "assert np.allclose(A, np.array([0.99330715, 0.99752738, 0.99908895]))\n",
    "assert np.allclose(Z, np.array([5, 6, 7]))"
   ]
  },
  {
   "cell_type": "code",
   "execution_count": 47,
   "id": "5e3b3163-b5ad-48c7-be24-302f23040fa0",
   "metadata": {},
   "outputs": [],
   "source": [
    "W_curr = np.array([1, 2, 3])\n",
    "b_curr = np.array([1, 2, 3])\n",
    "A_prev = np.array([1, 0, 1])\n",
    "Z_curr = np.array([5, 6, 7])\n",
    "dA_curr = np.array([[1, 1, 1],\n",
    "                    [1, 1, 1],\n",
    "                    [1, 1, 1]])\n",
    "dA_prev, dW_curr, db_curr = net._single_backprop(W_curr, b_curr, Z_curr, A_prev, dA_curr, net.arch[0]['activation'])"
   ]
  },
  {
   "cell_type": "code",
   "execution_count": 50,
   "id": "6cc0d74a-6a19-47bd-98cc-6671d0494d8c",
   "metadata": {},
   "outputs": [
    {
     "data": {
      "text/plain": [
       "array([0.01994417, 0.00739953, 0.00273066])"
      ]
     },
     "execution_count": 50,
     "metadata": {},
     "output_type": "execute_result"
    }
   ],
   "source": [
    "db_curr"
   ]
  },
  {
   "cell_type": "code",
   "execution_count": 53,
   "id": "8779c3eb-7438-4065-8d0d-11008c657f85",
   "metadata": {},
   "outputs": [
    {
     "data": {
      "text/plain": [
       "array([[0.48143897, 0.50816474, 0.53673459, 0.48668311, 0.46553634],\n",
       "       [0.4838546 , 0.51255378, 0.52826506, 0.4860597 , 0.46110437],\n",
       "       [0.4845847 , 0.51192266, 0.53278144, 0.49032614, 0.46194268],\n",
       "       [0.48202594, 0.50639076, 0.53848958, 0.48758986, 0.46632257],\n",
       "       [0.48642051, 0.51055976, 0.53322558, 0.49056067, 0.46009727],\n",
       "       [0.48592537, 0.50560177, 0.53700116, 0.48888211, 0.46386499],\n",
       "       [0.48519459, 0.51070064, 0.53378183, 0.49235269, 0.46504538],\n",
       "       [0.48324058, 0.51317822, 0.53094084, 0.48851457, 0.46299257],\n",
       "       [0.47723994, 0.51165853, 0.53448979, 0.48483289, 0.46764646],\n",
       "       [0.47845901, 0.51377405, 0.53337973, 0.48781133, 0.46761879]])"
      ]
     },
     "execution_count": 53,
     "metadata": {},
     "output_type": "execute_result"
    }
   ],
   "source": [
    "pred = net.predict(X)\n",
    "pred"
   ]
  },
  {
   "cell_type": "code",
   "execution_count": 56,
   "id": "6da605e5-2fb2-43ab-a120-fe6232a366ee",
   "metadata": {},
   "outputs": [
    {
     "ename": "ValueError",
     "evalue": "'a' cannot be empty unless no samples are taken",
     "output_type": "error",
     "traceback": [
      "\u001b[0;31m---------------------------------------------------------------------------\u001b[0m",
      "\u001b[0;31mValueError\u001b[0m                                Traceback (most recent call last)",
      "Cell \u001b[0;32mIn[56], line 1\u001b[0m\n\u001b[0;32m----> 1\u001b[0m seqs, labels \u001b[38;5;241m=\u001b[39m \u001b[43msample_seqs\u001b[49m\u001b[43m(\u001b[49m\u001b[43m[\u001b[49m\u001b[38;5;124;43m'\u001b[39;49m\u001b[38;5;124;43mA\u001b[39;49m\u001b[38;5;124;43m'\u001b[39;49m\u001b[43m,\u001b[49m\u001b[43m \u001b[49m\u001b[38;5;124;43m'\u001b[39;49m\u001b[38;5;124;43mA\u001b[39;49m\u001b[38;5;124;43m'\u001b[39;49m\u001b[43m,\u001b[49m\u001b[43m \u001b[49m\u001b[38;5;124;43m'\u001b[39;49m\u001b[38;5;124;43mA\u001b[39;49m\u001b[38;5;124;43m'\u001b[39;49m\u001b[43m,\u001b[49m\u001b[43m \u001b[49m\u001b[38;5;124;43m'\u001b[39;49m\u001b[38;5;124;43mB\u001b[39;49m\u001b[38;5;124;43m'\u001b[39;49m\u001b[43m]\u001b[49m\u001b[43m,\u001b[49m\u001b[43m \u001b[49m\u001b[43m[\u001b[49m\u001b[38;5;124;43m'\u001b[39;49m\u001b[38;5;124;43mTrue\u001b[39;49m\u001b[38;5;124;43m'\u001b[39;49m\u001b[43m,\u001b[49m\u001b[43m \u001b[49m\u001b[38;5;124;43m'\u001b[39;49m\u001b[38;5;124;43mTrue\u001b[39;49m\u001b[38;5;124;43m'\u001b[39;49m\u001b[43m,\u001b[49m\u001b[43m \u001b[49m\u001b[38;5;124;43m'\u001b[39;49m\u001b[38;5;124;43mTrue\u001b[39;49m\u001b[38;5;124;43m'\u001b[39;49m\u001b[43m,\u001b[49m\u001b[43m \u001b[49m\u001b[38;5;124;43m'\u001b[39;49m\u001b[38;5;124;43mFalse\u001b[39;49m\u001b[38;5;124;43m'\u001b[39;49m\u001b[43m]\u001b[49m\u001b[43m)\u001b[49m\n",
      "File \u001b[0;32m~/Library/CloudStorage/OneDrive-NortheasternUniversity/UCSF/Classes/Quarter2/BMI203_Algorithms/final-nn/nn/preprocess.py:43\u001b[0m, in \u001b[0;36msample_seqs\u001b[0;34m(seqs, labels)\u001b[0m\n\u001b[1;32m     40\u001b[0m neg_indices \u001b[38;5;241m=\u001b[39m [i \u001b[38;5;28;01mfor\u001b[39;00m i, x \u001b[38;5;129;01min\u001b[39;00m \u001b[38;5;28menumerate\u001b[39m(labels) \u001b[38;5;28;01mif\u001b[39;00m x \u001b[38;5;241m==\u001b[39m \u001b[38;5;28;01mFalse\u001b[39;00m]\n\u001b[1;32m     41\u001b[0m \u001b[38;5;66;03m# resample using random indices\u001b[39;00m\n\u001b[1;32m     42\u001b[0m \u001b[38;5;66;03m# get random indices from total positive and negative indices lists\u001b[39;00m\n\u001b[0;32m---> 43\u001b[0m pos_sample_indices \u001b[38;5;241m=\u001b[39m \u001b[43mnp\u001b[49m\u001b[38;5;241;43m.\u001b[39;49m\u001b[43mrandom\u001b[49m\u001b[38;5;241;43m.\u001b[39;49m\u001b[43mchoice\u001b[49m\u001b[43m(\u001b[49m\u001b[43mpos_indices\u001b[49m\u001b[43m,\u001b[49m\u001b[43m \u001b[49m\u001b[43msize\u001b[49m\u001b[38;5;241;43m=\u001b[39;49m\u001b[43mbalanced_size\u001b[49m\u001b[43m,\u001b[49m\u001b[43m \u001b[49m\u001b[43mreplace\u001b[49m\u001b[38;5;241;43m=\u001b[39;49m\u001b[38;5;28;43;01mTrue\u001b[39;49;00m\u001b[43m)\u001b[49m\n\u001b[1;32m     44\u001b[0m neg_sample_indices \u001b[38;5;241m=\u001b[39m np\u001b[38;5;241m.\u001b[39mrandom\u001b[38;5;241m.\u001b[39mchoice(neg_indices, size\u001b[38;5;241m=\u001b[39mbalanced_size, replace\u001b[38;5;241m=\u001b[39m\u001b[38;5;28;01mTrue\u001b[39;00m)\n\u001b[1;32m     46\u001b[0m \u001b[38;5;66;03m# get sequences from the random indices\u001b[39;00m\n",
      "File \u001b[0;32mmtrand.pyx:915\u001b[0m, in \u001b[0;36mnumpy.random.mtrand.RandomState.choice\u001b[0;34m()\u001b[0m\n",
      "\u001b[0;31mValueError\u001b[0m: 'a' cannot be empty unless no samples are taken"
     ]
    }
   ],
   "source": [
    "seqs, labels = sample_seqs(['A', 'A', 'A', 'B'], ['True', 'True', 'True', 'False'])"
   ]
  },
  {
   "cell_type": "code",
   "execution_count": 68,
   "id": "ba89eafb-1292-44f0-91f4-f2d653122baf",
   "metadata": {},
   "outputs": [
    {
     "data": {
      "text/plain": [
       "array([-0.4       , -0.33333333, -1.        , -0.66666667, -0.33333333])"
      ]
     },
     "execution_count": 68,
     "metadata": {},
     "output_type": "execute_result"
    }
   ],
   "source": [
    "y_hat = np.array([0.5, 0.6, 0.2, 0.3, 0.6])\n",
    "y = np.array([1, 1, 1, 1, 1])\n",
    "net._binary_cross_entropy_backprop(y,y_hat)"
   ]
  },
  {
   "cell_type": "code",
   "execution_count": 71,
   "id": "26fbf7cc-2d6d-43a2-9a27-bec3cde34aeb",
   "metadata": {},
   "outputs": [
    {
     "data": {
      "text/plain": [
       "0.34"
      ]
     },
     "execution_count": 71,
     "metadata": {},
     "output_type": "execute_result"
    }
   ],
   "source": [
    "y_hat = np.array([0.5, 0.6, 0.2, 0.3, 0.6])\n",
    "y = np.array([1, 1, 1, 1, 1])\n",
    "net._mean_squared_error(y,y_hat)"
   ]
  }
 ],
 "metadata": {
  "kernelspec": {
   "display_name": "Python 3 (ipykernel)",
   "language": "python",
   "name": "python3"
  },
  "language_info": {
   "codemirror_mode": {
    "name": "ipython",
    "version": 3
   },
   "file_extension": ".py",
   "mimetype": "text/x-python",
   "name": "python",
   "nbconvert_exporter": "python",
   "pygments_lexer": "ipython3",
   "version": "3.9.7"
  }
 },
 "nbformat": 4,
 "nbformat_minor": 5
}
