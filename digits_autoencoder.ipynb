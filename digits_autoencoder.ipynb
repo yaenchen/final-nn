{
 "cells": [
  {
   "cell_type": "markdown",
   "id": "dfddb09b-130a-43e9-a98d-8b677ede8c6a",
   "metadata": {},
   "source": [
    "## BMI 203 Final Project: Making autoencoder and testing on the digits dataset"
   ]
  },
  {
   "cell_type": "markdown",
   "id": "6301b554-b8da-4b91-9c71-1d263afb7048",
   "metadata": {},
   "source": [
    "This Jupyter notebook uses the neural network API developed for this assignment to encode and reconstruct input from the \"digits\" dataset."
   ]
  },
  {
   "cell_type": "code",
   "execution_count": 1,
   "id": "7119aa45-f581-4ba5-bbe4-cdd11acea8f4",
   "metadata": {},
   "outputs": [
    {
     "name": "stderr",
     "output_type": "stream",
     "text": [
      "/Users/yaenchen/opt/anaconda3/lib/python3.9/site-packages/scipy/__init__.py:146: UserWarning: A NumPy version >=1.16.5 and <1.23.0 is required for this version of SciPy (detected version 1.23.5\n",
      "  warnings.warn(f\"A NumPy version >={np_minversion} and <{np_maxversion}\"\n"
     ]
    }
   ],
   "source": [
    "from sklearn.datasets import load_digits\n",
    "from sklearn.model_selection import train_test_split\n",
    "import numpy as np\n",
    "from nn import nn, preprocess, io\n",
    "import matplotlib.pyplot as plt"
   ]
  },
  {
   "cell_type": "code",
   "execution_count": 2,
   "id": "209ef8ab-b4df-4961-9683-8db2d13772ac",
   "metadata": {},
   "outputs": [],
   "source": [
    "%load_ext autoreload\n",
    "# reloads the file constantly so you don't need to reset\n",
    "%autoreload 2"
   ]
  },
  {
   "cell_type": "markdown",
   "id": "638fee29-2801-468f-8b37-18484e5dd6f4",
   "metadata": {},
   "source": [
    "#### Step 1: Load the digits dataset\n",
    "Each class (10 total) reflects a digit. There are 1797 8x8 images (64 pixels), and each image is a hand-written digit."
   ]
  },
  {
   "cell_type": "code",
   "execution_count": 3,
   "id": "9419d560-664e-4b6b-9d9c-1ccbd7cfa8dd",
   "metadata": {},
   "outputs": [
    {
     "name": "stdout",
     "output_type": "stream",
     "text": [
      "Shape of the digits data: (1797, 64)\n"
     ]
    }
   ],
   "source": [
    "digits = load_digits()\n",
    "print(\"Shape of the digits data:\", np.shape(digits.data))"
   ]
  },
  {
   "cell_type": "markdown",
   "id": "155858e4-4d48-4d81-91c6-5fb8efa4a187",
   "metadata": {},
   "source": [
    "#### Step 2: Split data into training and testing\n",
    "80% of the data will be used for training, while 20% will be used for testing."
   ]
  },
  {
   "cell_type": "code",
   "execution_count": 4,
   "id": "20283dd9-51dc-4542-acdb-b76f71692be6",
   "metadata": {},
   "outputs": [
    {
     "data": {
      "text/plain": [
       "array([[ 0.,  0.,  0., ..., 16., 16.,  6.],\n",
       "       [ 0.,  3., 12., ..., 16.,  2.,  0.],\n",
       "       [ 0.,  1., 10., ...,  0.,  0.,  0.],\n",
       "       ...,\n",
       "       [ 0.,  0.,  5., ...,  0.,  0.,  0.],\n",
       "       [ 0.,  0.,  4., ...,  0.,  0.,  0.],\n",
       "       [ 0.,  0.,  6., ..., 11.,  0.,  0.]])"
      ]
     },
     "execution_count": 4,
     "metadata": {},
     "output_type": "execute_result"
    }
   ],
   "source": [
    "X_train, X_test, y_train, y_test = train_test_split(digits[\"data\"], digits[\"data\"], test_size = 0.2, random_state = 0)\n",
    "X_train"
   ]
  },
  {
   "cell_type": "markdown",
   "id": "25447010-6eed-468e-a1fd-fef7f64eab80",
   "metadata": {},
   "source": [
    "#### Step 2: Determine optimal parameters\n",
    "An instance of my autoencoder was generated with MSE as the loss function since the output is not binary (thus, BCE would not be appropriate). Other parameters for use in my autoencoder were determined through a brief grid search with various learning rates, batch sizes, and epochs.\n",
    "\n",
    "After grid search, the optimal parameters were determined to be a **learning rate of 0.0001, batch size of 50, and 500 epochs** based on minimal loss values.\n",
    "\n",
    "My neural network consists of 2 layers, which takes an input and encodes it into a lower-dimensional latent space to decode and reconstruct it. The autoencoder is 64x16x64."
   ]
  },
  {
   "cell_type": "code",
   "execution_count": 31,
   "id": "aeb5dfa5-f4de-4231-82bb-56e3134c4ea5",
   "metadata": {},
   "outputs": [],
   "source": [
    "# do a small grid search\n",
    "# initialize parameters to test\n",
    "lr_params = [0.01, 0.001, 0.0001, 0.00001]\n",
    "batch_size_params = [10, 50, 100, 200]\n",
    "epoch_params = [10, 50, 100, 200, 500]\n",
    "# initialize lists to store losses and the optimal parameters\n",
    "losses = []\n",
    "optimal_params = []\n",
    "\n",
    "# do grid search\n",
    "for lr in lr_params:\n",
    "    for batch_size in batch_size_params:\n",
    "        for epoch in epoch_params:\n",
    "            autoencoder = nn.NeuralNetwork(arch, lr=lr, batch_size=batch_size, epochs=epoch, seed=42, loss_function = \"mse\")\n",
    "            train_loss, test_loss = autoencoder.fit(X_train, y_train, X_test, y_test)\n",
    "            losses.append(min((test_loss)))\n",
    "            optimal_params.append([lr, batch_size, epoch])"
   ]
  },
  {
   "cell_type": "code",
   "execution_count": 32,
   "id": "f4d9a935-60a5-42a5-960f-fc9339280cfa",
   "metadata": {},
   "outputs": [
    {
     "data": {
      "text/plain": [
       "[0.0001, 50, 500]"
      ]
     },
     "execution_count": 32,
     "metadata": {},
     "output_type": "execute_result"
    }
   ],
   "source": [
    "#print the optimal parameters (learning rate, batch size, epochs)\n",
    "optimal_params[losses.index(min(losses))]"
   ]
  },
  {
   "cell_type": "markdown",
   "id": "b3370d3d-95e0-4c9c-a88d-ec2f9d8e6b05",
   "metadata": {},
   "source": [
    "#### Step 3: Train my autoencoder using optimal parameters"
   ]
  },
  {
   "cell_type": "code",
   "execution_count": 33,
   "id": "1db7001b-4d12-46d4-b698-d5b2643cac72",
   "metadata": {},
   "outputs": [],
   "source": [
    "# initialize neural network architecture using the optimal parameters\n",
    "arch = [{'input_dim': 64, 'output_dim': 16, 'activation': 'relu'},\n",
    "       {'input_dim': 16, 'output_dim': 64, 'activation': 'relu'}]\n",
    "# initialize autoencoder\n",
    "autoencoder = nn.NeuralNetwork(arch, lr = 0.0001, seed = 42, batch_size = 50, epochs = 500, loss_function = \"mse\")"
   ]
  },
  {
   "cell_type": "code",
   "execution_count": 34,
   "id": "0df8abe8-56aa-4b5f-8137-f41065e0ff7f",
   "metadata": {},
   "outputs": [],
   "source": [
    "# train autoencoder on the training data\n",
    "train_loss, test_loss = autoencoder.fit(X_train, y_train, X_test, y_test)"
   ]
  },
  {
   "cell_type": "markdown",
   "id": "70b23ccb-5ba4-442b-a04e-9b292db3ee34",
   "metadata": {},
   "source": [
    "#### Step 4: Plot losses per epoch"
   ]
  },
  {
   "cell_type": "code",
   "execution_count": 49,
   "id": "a1902767-fd00-41e7-b500-8bce1354235c",
   "metadata": {},
   "outputs": [
    {
     "data": {
      "image/png": "[encoded data removed]",
      "text/plain": [
       "<Figure size 640x480 with 1 Axes>"
      ]
     },
     "metadata": {},
     "output_type": "display_data"
    }
   ],
   "source": [
    "plt.figure()\n",
    "plt.plot(train_loss)\n",
    "plt.title(\"Training Losses Per Epoch\")\n",
    "plt.xlabel('Epoch')\n",
    "plt.ylabel('Loss')\n",
    "plt.show()"
   ]
  },
  {
   "cell_type": "code",
   "execution_count": 51,
   "id": "00b311fb-dd10-42aa-8cdd-0987f61cfbee",
   "metadata": {},
   "outputs": [
    {
     "data": {
      "image/png": "[encoded data removed]",
      "text/plain": [
       "<Figure size 640x480 with 1 Axes>"
      ]
     },
     "metadata": {},
     "output_type": "display_data"
    }
   ],
   "source": [
    "plt.figure()\n",
    "plt.plot(test_loss)\n",
    "plt.title(\"Testing Losses Per Epoch\")\n",
    "plt.xlabel('Epoch')\n",
    "plt.ylabel('Loss')\n",
    "plt.show()"
   ]
  },
  {
   "cell_type": "markdown",
   "id": "fdd682b6-d8f3-45ac-b01e-d36c13bc7340",
   "metadata": {},
   "source": [
    "#### Step 5: Quantify reconstruction error"
   ]
  },
  {
   "cell_type": "code",
   "execution_count": 48,
   "id": "78cd6a9e-8e3c-4a76-bddb-22b476a380f4",
   "metadata": {},
   "outputs": [],
   "source": [
    "# make predictions using test data\n",
    "preds = autoencoder.predict(X_test)"
   ]
  },
  {
   "cell_type": "code",
   "execution_count": 47,
   "id": "72767630-35b2-4c16-8361-4d06c672f4ee",
   "metadata": {},
   "outputs": [
    {
     "name": "stdout",
     "output_type": "stream",
     "text": [
      "Mean squred error of the test data: 5.88449100481224\n"
     ]
    }
   ],
   "source": [
    "# get the mean squared error of the test set\n",
    "print(\"Mean squred error of the test data:\", np.mean((X_test - preds) ** 2))"
   ]
  }
 ],
 "metadata": {
  "kernelspec": {
   "display_name": "Python 3 (ipykernel)",
   "language": "python",
   "name": "python3"
  },
  "language_info": {
   "codemirror_mode": {
    "name": "ipython",
    "version": 3
   },
   "file_extension": ".py",
   "mimetype": "text/x-python",
   "name": "python",
   "nbconvert_exporter": "python",
   "pygments_lexer": "ipython3",
   "version": "3.9.7"
  }
 },
 "nbformat": 4,
 "nbformat_minor": 5
}
